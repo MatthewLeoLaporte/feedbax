{
 "cells": [
  {
   "cell_type": "markdown",
   "metadata": {},
   "source": [
    "# Staged models\n",
    "\n",
    "TODO: Write this as a deconstruction of an actual model, e.g. the original `SimpleFeedback`, into state operations\n",
    "\n",
    "Equinox modules collect the parameters of a model into tree structures\n",
    "\n",
    "- However, the actual operations that are performed may be complex\n",
    "    - defined in `__call__`\n",
    "    - and the tree structure of a module may not reflect exactly what computations are performed\n",
    "\n",
    "Models can be seen as a series of operations on the state of a system\n",
    "\n",
    "- `AbstractStagedModel` is a special kind of `eqx.Module` that makes us specify its computations as a series of *stages*\n",
    "    - that is, operations that modify the state associated with that type of model\n",
    "- Each type of `AbstractStagedModel` is associated with a particular type of `AbstractState`.\n",
    "    - So, states tend to have a tree structure that reflects the model hierarchy, as well as the state operations that can be performed at each level of the model\n",
    "\n",
    "For example, in our examples so far,\n",
    "\n",
    "- `model.step` is an instance of `SimpleFeedback`, which is a type of `AbstractStagedModel`. \n",
    "- When `model.step` it is called,\n",
    "    - it is passed an instance of `SimpleFeedbackState`, and\n",
    "    - it executes several stages of modifications to `SimpleFeedbackState`, and returns the result.\n",
    "    - One of the stages of `SimpleFeedback` is labeled `\"nn_step\"`. This stage involves calling instance of `SimpleStagedNetwork` that belongs to `SimpleFeedback`, which in our model we refer to as `model.step.net`.\n",
    "- `SimpleStagedNetwork` is also a type of `AbstractStagedModel`\n",
    "- When an instance of `SimpleStagedNetwork` is called, \n",
    "    - it is passed an instance of `SimpleStagedNetworkState`—when `model.step` calls `model.step.net` during the `\"nn_step\"` stage, it passes `states.network`.\n",
    "    - it executes several stages of modifications to `SimpleStagedNetworkState`, and returns the result.\n",
    "    - \n",
    "    \n",
    "Note that `SimpleFeedback` (`model.step`) possesses a `SimpleStagedNetwork` (`model.step.net`), and that `SimpleFeedbackState` (`states`) possesses a `NetworkState` (`states.net`). "
   ]
  },
  {
   "cell_type": "markdown",
   "metadata": {},
   "source": [
    "Using `format_model_spec` to visualize the stages of a model"
   ]
  },
  {
   "cell_type": "markdown",
   "metadata": {},
   "source": [
    "Inspecting `model_spec`"
   ]
  },
  {
   "cell_type": "markdown",
   "metadata": {},
   "source": [
    "## Inspecting staged models \n",
    "\n",
    "Model spec\n",
    "\n",
    "Example for a `SimpleStagedNetwork` that has an encoder, hidden noise, and readout."
   ]
  },
  {
   "cell_type": "markdown",
   "metadata": {},
   "source": [
    "```python\n",
    "    @property\n",
    "    def model_spec(self):\n",
    "        \"\"\"Specifies the stages of the model in terms of state operations.\n",
    "        \"\"\"\n",
    "        return OrderedDict({\n",
    "                'encoder': ModelStageSpec(\n",
    "                    callable=lambda self: self._encode,\n",
    "                    where_input=lambda input, state: ravel_pytree(input)[0],\n",
    "                    where_state=lambda state: state.encoding,\n",
    "                ),\n",
    "                'hidden': ModelStageSpec(\n",
    "                    callable=lambda self: self.hidden,\n",
    "                    where_input=lambda input, state: state.encoding,\n",
    "                    where_state=lambda state: state.hidden,\n",
    "                ),\n",
    "                'hidden_noise': ModelStageSpec(\n",
    "                    callable=lambda self: self._add_hidden_noise,\n",
    "                    where_input=lambda input, state: state.hidden,\n",
    "                    where_state=lambda state: state.hidden,\n",
    "                ),\n",
    "                'readout': ModelStageSpec(\n",
    "                    callable=lambda self: self._output,\n",
    "                    where_input=lambda input, state: state.hidden,\n",
    "                    where_state=lambda state: state.output,\n",
    "                ),\n",
    "        })      \n",
    "```"
   ]
  },
  {
   "cell_type": "markdown",
   "metadata": {},
   "source": [
    "## Using simple functions \n",
    "\n",
    "Wrappers."
   ]
  },
  {
   "cell_type": "markdown",
   "metadata": {},
   "source": [
    "## Using non-staged components \n",
    "\n",
    "- Using existing neural networks as controllers \n",
    "    - And the downside (intervenors)"
   ]
  },
  {
   "cell_type": "code",
   "execution_count": null,
   "metadata": {},
   "outputs": [],
   "source": []
  },
  {
   "cell_type": "markdown",
   "metadata": {},
   "source": [
    "## Writing a staged model\n",
    "\n",
    "Example: similar to `SimpleFeedback`, but with two neural networks with a `Channel` between them?"
   ]
  },
  {
   "cell_type": "markdown",
   "metadata": {},
   "source": []
  }
 ],
 "metadata": {
  "language_info": {
   "name": "python"
  }
 },
 "nbformat": 4,
 "nbformat_minor": 2
}
