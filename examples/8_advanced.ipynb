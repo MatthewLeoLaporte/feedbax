{
 "cells": [
  {
   "cell_type": "markdown",
   "metadata": {},
   "source": [
    "# Advanced examples\n",
    "\n",
    "- Advanced PyTree stuff, like in my robustness notebooks\n",
    "- Training multiple types of models with a single call... i.e. not an ensemble, but different pairings\n",
    "- Tree methods provided by Feedbax, e.g. `tree_map_unzip`\n",
    "\n",
    "Would be good to refer to this notebook as a source of uncertainty in my request for feedback. For example, are the tree methods I've written the best way to do the things I'm using them for?"
   ]
  },
  {
   "cell_type": "code",
   "execution_count": null,
   "metadata": {},
   "outputs": [],
   "source": [
    "task = SimpleReaches(\n",
    "    loss_func=simple_reach_loss(n_steps),\n",
    "    workspace=workspace, \n",
    "    n_steps=n_steps,\n",
    "    eval_grid_n=2,\n",
    "    eval_n_directions=8,\n",
    "    eval_reach_length=0.5,    \n",
    ")"
   ]
  },
  {
   "cell_type": "code",
   "execution_count": null,
   "metadata": {},
   "outputs": [],
   "source": [
    "from feedbax.tree import tree_unzip\n",
    "\n",
    "\n",
    "models, tasks, trainers, labels = tree_unzip(\n",
    "    {\n",
    "        \"control\": (model, task, trainer),\n",
    "        \"control_hebb\": (model, task, trainer_hebb),\n",
    "        \"train_curl\": (model_train_curl, task_train_curl, trainer),\n",
    "        \"train_curl_hebb\": (model_train_curl, task_train_curl, trainer_hebb),\n",
    "    }\n",
    ")"
   ]
  },
  {
   "cell_type": "code",
   "execution_count": null,
   "metadata": {},
   "outputs": [],
   "source": [
    "from feedbax.tree import tree_map_unzip\n",
    "\n",
    "\n",
    "models, train_history = tree_map_unzip(\n",
    "    lambda model, task, trainer: trainer(\n",
    "        task=task, \n",
    "        model=model,\n",
    "        n_batches=n_batches, \n",
    "        batch_size=batch_size, \n",
    "        log_step=n_batches // 4,\n",
    "        where_train=where_train,\n",
    "        key=key_train,\n",
    "    ),\n",
    "    models, tasks, trainers,\n",
    "    is_leaf=lambda x: isinstance(x, eqx.Module),\n",
    ")"
   ]
  },
  {
   "cell_type": "markdown",
   "metadata": {},
   "source": [
    "- Scheduling interventions with multiple models simultaneously (we could also do multiple tasks)"
   ]
  },
  {
   "cell_type": "code",
   "execution_count": null,
   "metadata": {},
   "outputs": [],
   "source": [
    "task_test_curl, models_test_curl = schedule_intervenor(\n",
    "    task_test,\n",
    "    models, \n",
    "    CurlField.with_params(\n",
    "        amplitude=lambda trial_spec, *, key: \\\n",
    "            test_curl_abs * jr.choice(key, jnp.array([-1, 1])),\n",
    "        active=True,\n",
    "    ),\n",
    "    where=lambda model: model.step.mechanics,\n",
    "    default_active=True,\n",
    ")"
   ]
  },
  {
   "cell_type": "markdown",
   "metadata": {},
   "source": [
    "Evaluating a bunch of "
   ]
  },
  {
   "cell_type": "code",
   "execution_count": null,
   "metadata": {},
   "outputs": [],
   "source": [
    "key_eval, _ = jr.split(key_train)\n",
    "\n",
    "losses_test, states = tree_map_unzip(\n",
    "    lambda model, task: task.eval_with_losses(model, key=key_eval),\n",
    "    models_test,\n",
    "    tasks_test, \n",
    "    is_leaf=lambda x: isinstance(x, eqx.Module),\n",
    ")"
   ]
  },
  {
   "cell_type": "markdown",
   "metadata": {},
   "source": []
  },
  {
   "cell_type": "code",
   "execution_count": null,
   "metadata": {},
   "outputs": [],
   "source": [
    "def eval_plot(states, task, cmap='viridis'):\n",
    "    trial_specs, _ = task.validation_trials\n",
    "\n",
    "    return plot_pos_vel_force_2D(\n",
    "        states,\n",
    "        step=task_test.eval_n_directions // 8,\n",
    "        endpoints=(\n",
    "            trial_specs.init['mechanics.effector'].pos, \n",
    "            trial_specs.goal.pos\n",
    "        ),\n",
    "        cmap=cmap,\n",
    "    )\n",
    "\n",
    "figs, axs = tree_map_unzip(\n",
    "    eval_plot, \n",
    "    states, \n",
    "    tasks_test, \n",
    "    is_leaf=lambda x: isinstance(x, eqx.Module)\n",
    ")\n",
    "\n",
    "for label, fig in zip(labels_test, figs.values()):\n",
    "    fig.suptitle(label)"
   ]
  },
  {
   "cell_type": "markdown",
   "metadata": {},
   "source": []
  }
 ],
 "metadata": {
  "language_info": {
   "name": "python"
  }
 },
 "nbformat": 4,
 "nbformat_minor": 2
}
