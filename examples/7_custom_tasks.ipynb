{
 "cells": [
  {
   "cell_type": "markdown",
   "metadata": {},
   "source": [
    "# Designing a task\n",
    "\n",
    "To design a custom task, we need to subclass [`AbstractTask`][feedbax.task.AbstractTask], and implement the methods `get_train_trial` and `get_validation_trials`, which as their names suggest, define how to construct the task's training and validation trials. \n",
    "\n",
    "Each of these methods must return an instance of some type of [`AbstractTaskTrialSpec`][feedbax.task.AbstractTaskTrialSpec], which is a PyTree of *trial specifications*, or the parameters that define trials. "
   ]
  },
  {
   "cell_type": "markdown",
   "metadata": {},
   "source": [
    "## What's in a trial specification?\n",
    "\n",
    "For example, consider `SimpleReachTrialSpec`, which is the kind of trial specification you might use if you're building a variant of a simple reaching task.\n",
    "\n",
    "```python\n",
    "class SimpleReachTrialSpec(AbstractReachTrialSpec):\n",
    "    \"\"\"Trial specification for a simple reaching task.\"\"\"\n",
    "    inits: WhereDict\n",
    "    inputs: SimpleReachTaskInputs\n",
    "    target: CartesianState\n",
    "    intervene: dict[str, Array] = field(default_factory=dict)\n",
    "```\n",
    "\n",
    "What do all these fields mean?"
   ]
  },
  {
   "cell_type": "markdown",
   "metadata": {},
   "source": [
    "### `inits`: Initial states\n",
    "\n",
    "Provide the states used to initialize the model as a `WhereDict`. This is similar to a normal `dict`, but it lets us use certain `lambda` functions as keys.\n",
    "\n",
    "Here's a sketch of how we might define this part of a trial spec, if we wanted to start our trials with the mechanical effector at a certain (Cartesian) position and velocity:\n",
    "\n",
    "```python\n",
    "init = WhereDict({\n",
    "    (lambda state: state.mechanics.effector): CartesianState(\n",
    "        pos=jnp.array(...),  # Fill this in with actual position data for the trial(s).\n",
    "        vel=jnp.array(...),\n",
    "    )\n",
    "})\n",
    "```\n",
    "\n",
    "We need to make sure to pass the right kind of data, depending on the part of the state we want to initialize. It helps to [examine](/feedbax/examples/1_train#state-structure) the state PyTree. In this case, our model state is a `SimpleFeedbackState`, which has a field `mechanics: MechanicsState`, which in turn has a field `effector: CartesianState`, and that's the part we want to initialize. So we have to supply a `CartesianState`. \n",
    "\n",
    "We could have initialized only the position of the effector, like so:\n",
    "\n",
    "```python\n",
    "init = WhereDict({\n",
    "    (lambda state: state.mechanics.effector.pos): jnp.array(...)    \n",
    "})\n",
    "```\n",
    "\n",
    "The nice thing about specifying our model initializations this way, is that we can provide data for *any* part of the model state using an appropriate `lambda`."
   ]
  },
  {
   "cell_type": "markdown",
   "metadata": {},
   "source": [
    "### `inputs`: Model inputs\n",
    "\n",
    "The model typically needs information about each trial of the task it is supposed to complete. The structure of this information can vary depending on the class of tasks. Actually, this is the part of the trial specification which can vary the most. We specify it with yet another PyTree.\n",
    "\n",
    "In the case of `SimpleReachTrialSpec`, the type of `inputs` is `SimpleReachTaskInputs`.\n",
    "\n",
    "```python\n",
    "class SimpleReachTaskInputs(AbstractTaskInput):\n",
    "    \"\"\"Model input for a simple reaching task.\n",
    "    \n",
    "    Attributes:\n",
    "        effector_target: The trajectory of effector target states to be presented to the model.\n",
    "    \"\"\"\n",
    "    effector_target: CartesianState\n",
    "```\n",
    "\n",
    "For simple reaches, the only model input we provide is the target that we need to reach to on the current trial. "
   ]
  },
  {
   "cell_type": "markdown",
   "metadata": {},
   "source": [
    "### `target`: Target states\n",
    "\n",
    "In the case of simple reaches, the same target state that is provided as input to the model is also used by the loss function to score the model's reach performance. This is straightforward enough: it's just the trajectory we want the effector to follow, in Cartesian coordinates. \n",
    "\n",
    "!!! Note \"\"\n",
    "    See the example on [loss functions](/feedbax/examples/losses) for more information on how this information is actually used in scoring."
   ]
  },
  {
   "cell_type": "markdown",
   "metadata": {},
   "source": [
    "### `intervene`: Intervention parameters\n",
    "\n",
    "This holds onto the trial-by-trial parameters for each intervention we've scheduled with [`schedule_intervenors`][/feedbax/examples/3_intervening#scheduling-a-force-field]. It's unnecessary to construct this yourself, when writing a subclass of `AbstractTask`. \n",
    "\n",
    "However, if you write your own subclass of `AbstractTaskTrialSpec`, you should make sure to include the field `intervene: dict[str, Array] = field(default_factory=dict)`."
   ]
  },
  {
   "cell_type": "markdown",
   "metadata": {},
   "source": [
    "## Building a trial specification\n",
    "\n",
    "Put together what we've just seen, and a function that constructs a trial specification for a simple reaching task will look something like:\n",
    "\n",
    "```python\n",
    "import jax.numpy as jnp\n",
    "from feedbax.task import SimpleReachTaskInputs, WhereDict\n",
    "\n",
    "def get_simple_reach_trial(key):\n",
    "    \n",
    "    init_effector_pos = jnp.array(...)\n",
    "    \n",
    "    inits = WhereDict({\n",
    "        (lambda state: state.mechanics.effector.pos): init_effector_pos,\n",
    "    })\n",
    "    \n",
    "    effector_target = CartesianState(\n",
    "        pos=jnp.array(...),\n",
    "        vel=jnp.array(...),\n",
    "    )\n",
    "    \n",
    "    return SimpleReachTrialSpec(\n",
    "        inits=inits,\n",
    "        # The target state of the effector is the info both 1) that the model needs\n",
    "        # to complete the task:\n",
    "        inputs=SimpleReachTaskInputs(\n",
    "            effector_target=effector_target,\n",
    "        ),\n",
    "        # and 2) that the loss function needs to score the task:\n",
    "        target=effector_target,\n",
    "        # It's unnecessary to specify intervene, here. \n",
    "    )\n",
    "```"
   ]
  },
  {
   "cell_type": "markdown",
   "metadata": {},
   "source": [
    "## Writing a subclass of `AbstractTask`\n",
    "\n",
    "Again, we have to write two functions like the one we just sketched, which return a `SimpleReachTrialSpec`: `get_train_trial` and `get_validation_trials`. We also have to implement:\n",
    "\n",
    "- one property, `n_validation_trials`.\n",
    "- three fields: `loss_func`, `n_steps`, and `seed_validation`.\n",
    "\n",
    "Note that `get_train_trial` should return a trial spec for a single training trial, while `get_validation_trials` should return a trial spec for all the validation trials at once. This is reflected in the shape of the arrays that we use to build the trial spec: in `get_validation_trials`, there is an extra dimension whose size is the number of trials in the validation set."
   ]
  },
  {
   "cell_type": "code",
   "execution_count": null,
   "metadata": {},
   "outputs": [],
   "source": [
    "from feedbax.intervene import AbstractIntervenorInput\n",
    "from feedbax.loss import AbstractLoss\n",
    "from feedbax.task import AbstractTask, SimpleReachTaskInputs, SimpleReachTrialSpec\n",
    "\n",
    "\n",
    "class MySimpleReachTask(AbstractTask):\n",
    "    loss_func: AbstractLoss\n",
    "    n_steps: int  # The number of\n",
    "    seed_validation: int\n",
    "\n",
    "    intervention_specs: dict[AbstractIntervenorInput]\n",
    "    intervention_specs_validation: dict[AbstractIntervenorInput]\n",
    "\n",
    "    def get_train_trial(self, key) -> SimpleReachTrialSpec:\n",
    "        \"\"\"Return a single training trial specification.\n",
    "\n",
    "        Arguments:\n",
    "            key: A random key for generating the trial.\n",
    "        \"\"\"\n",
    "\n",
    "        inits = ...\n",
    "        effector_target = ...\n",
    "\n",
    "        return SimpleReachTrialSpec(\n",
    "            inits=inits,\n",
    "            inputs=SimpleReachTaskInputs(\n",
    "                effector_target=effector_target,\n",
    "            ),\n",
    "            target=effector_target,\n",
    "        )\n",
    "\n",
    "    def get_validation_trials(self, key) -> SimpleReachTrialSpec:\n",
    "        \"\"\"Return a set of validation trials.\n",
    "\n",
    "        Arguments:\n",
    "            key: A random key for generating the validation set.\n",
    "        \"\"\"\n",
    "        inits = ...\n",
    "        effector_target = ...\n",
    "\n",
    "        return SimpleReachTrialSpec(\n",
    "            inits=inits,\n",
    "            inputs=SimpleReachTaskInputs(\n",
    "                effector_target=effector_target,\n",
    "            ),\n",
    "            target=effector_target,\n",
    "        )\n",
    "\n",
    "    # We also need to implement this property.\n",
    "    @property\n",
    "    def n_validation_trials(self) -> int:\n",
    "        ...\n",
    "\n"
   ]
  },
  {
   "cell_type": "markdown",
   "metadata": {},
   "source": [
    "## Defining an entirely new class of tasks\n",
    "\n",
    "We can design tasks that are not part of an existing class of tasks. In that case, we need to define our own subclass of `AbstractTaskTrialSpec` which is the PyTree of information defining a task trial. In particular, "
   ]
  },
  {
   "cell_type": "markdown",
   "metadata": {},
   "source": []
  }
 ],
 "metadata": {
  "kernelspec": {
   "display_name": "fx",
   "language": "python",
   "name": "python3"
  },
  "language_info": {
   "codemirror_mode": {
    "name": "ipython",
    "version": 3
   },
   "file_extension": ".py",
   "mimetype": "text/x-python",
   "name": "python",
   "nbconvert_exporter": "python",
   "pygments_lexer": "ipython3",
   "version": "3.11.0"
  }
 },
 "nbformat": 4,
 "nbformat_minor": 2
}
