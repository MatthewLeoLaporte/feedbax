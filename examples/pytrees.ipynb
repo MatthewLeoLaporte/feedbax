{
 "cells": [
  {
   "cell_type": "markdown",
   "metadata": {},
   "source": [
    "# Why JAX?\n",
    "\n",
    "NumPy.\n",
    "\n",
    "Functional. \n",
    "Stateless. State is something *returned* by a model, not something a model \"possesses\".\n",
    "\n",
    "Random number generation.\n",
    "\n",
    "## Pytrees\n",
    "\n",
    "One thing that makes JAX nice and powerful is the consistent way that its tools interact with data that is organized in arbitrarily nested Python containers.\n",
    "\n",
    "Feedbax relies on these capabilities, so if you are unfamiliar with *pytrees*, please read this short tutorial and check out the JAX [documentation](https://jax.readthedocs.io/en/latest/pytrees.html) as well.\n",
    "\n",
    "Say we have a list and a dict that contain similar values."
   ]
  },
  {
   "cell_type": "code",
   "execution_count": 1,
   "metadata": {},
   "outputs": [
    {
     "name": "stdout",
     "output_type": "stream",
     "text": [
      "{'a': 1, 'b': 2, 'c': 3}\n"
     ]
    }
   ],
   "source": [
    "some_list = [1, 2, 3]\n",
    "\n",
    "some_dict = {'a': 1, 'b': 2, 'c': 3}"
   ]
  },
  {
   "cell_type": "markdown",
   "metadata": {},
   "source": [
    "In standard Python, a *comprehension* is a typical way of applying some computation to every value in a list or dict."
   ]
  },
  {
   "cell_type": "code",
   "execution_count": 6,
   "metadata": {},
   "outputs": [
    {
     "data": {
      "text/plain": [
       "[1, 4, 9]"
      ]
     },
     "execution_count": 6,
     "metadata": {},
     "output_type": "execute_result"
    }
   ],
   "source": [
    "[x ** 2 for x in some_list]"
   ]
  },
  {
   "cell_type": "code",
   "execution_count": 7,
   "metadata": {},
   "outputs": [
    {
     "data": {
      "text/plain": [
       "{'a': 1, 'b': 4, 'c': 9}"
      ]
     },
     "execution_count": 7,
     "metadata": {},
     "output_type": "execute_result"
    }
   ],
   "source": [
    "{k: x ** 2 for k, x in some_dict.items()}"
   ]
  },
  {
   "cell_type": "markdown",
   "metadata": {},
   "source": [
    "While these solutions are similar, they are not interchangeable. If our data is a list we can use the first method and get a list in return. But as soon as we start using some data that's stored in a dict, we need to change our code.\n",
    "\n",
    "Conveniently, JAX provides a function `tree_map` that behaves exactly the same way for both lists and dicts."
   ]
  },
  {
   "cell_type": "code",
   "execution_count": 16,
   "metadata": {},
   "outputs": [
    {
     "data": {
      "text/plain": [
       "[1, 4, 9]"
      ]
     },
     "execution_count": 16,
     "metadata": {},
     "output_type": "execute_result"
    }
   ],
   "source": [
    "from jax.tree_util import tree_map\n",
    "\n",
    "tree_map(lambda x: x ** 2, some_list)"
   ]
  },
  {
   "cell_type": "code",
   "execution_count": 17,
   "metadata": {},
   "outputs": [
    {
     "data": {
      "text/plain": [
       "{'a': 1, 'b': 4, 'c': 9}"
      ]
     },
     "execution_count": 17,
     "metadata": {},
     "output_type": "execute_result"
    }
   ],
   "source": [
    "tree_map(lambda x: x ** 2, some_dict)"
   ]
  },
  {
   "cell_type": "markdown",
   "metadata": {},
   "source": [
    "!!! Note    \n",
    "    Python includes a built-in function `map` which is similar in principle to `tree_map`. For example, we can do `list(map(lambda x: x**2, some_list))` to get the same result as `tree_map(lambda x: x**2, some_list)`. However, `map` doesn't return the same data structure it is given: to square all the values in a dict, and return a dict like we did with `tree_map`, we'd have to do something like `dict(zip(some_dict.keys(), map(lambda x: x**2, some_dict.values())))`. Obviously, this is ugly and harder to read.\n",
    "\n",
    "Even better, `tree_map` works on nested containers. "
   ]
  },
  {
   "cell_type": "code",
   "execution_count": 39,
   "metadata": {},
   "outputs": [
    {
     "data": {
      "text/plain": [
       "[{'p': [1, 4], 'x': 1.0},\n",
       " [25, 36, 49, 64, {'y': Array([4, 4, 4], dtype=int32)}]]"
      ]
     },
     "execution_count": 39,
     "metadata": {},
     "output_type": "execute_result"
    }
   ],
   "source": [
    "import jax.numpy as jnp\n",
    "\n",
    "some_data = [{'p': [1, 2], 'x': 1.0}, \n",
    "             [5, 6, 7, 8, {'y': jnp.array([2, 2, 2])}]]\n",
    "\n",
    "tree_map(lambda x: x ** 2, some_data)"
   ]
  },
  {
   "cell_type": "markdown",
   "metadata": {},
   "source": [
    "How does this work? JAX considers both lists and dicts—and any nested structures of lists and dicts—to be *pytrees*.\n",
    "\n",
    "A pytree's *leaves* are the data it ultimately contains."
   ]
  },
  {
   "cell_type": "code",
   "execution_count": 40,
   "metadata": {},
   "outputs": [
    {
     "data": {
      "text/plain": [
       "[1, 2, 1.0, 5, 6, 7, 8, Array([2, 2, 2], dtype=int32)]"
      ]
     },
     "execution_count": 40,
     "metadata": {},
     "output_type": "execute_result"
    }
   ],
   "source": [
    "from jax.tree_util import tree_leaves, tree_structure\n",
    "\n",
    "tree_leaves(some_data)"
   ]
  },
  {
   "cell_type": "markdown",
   "metadata": {},
   "source": [
    "Those leaves are arranged in a tree with a certain structure. "
   ]
  },
  {
   "cell_type": "code",
   "execution_count": 24,
   "metadata": {},
   "outputs": [
    {
     "data": {
      "text/plain": [
       "PyTreeDef([{'p': [*, *], 'x': *}, [*, *, *, *, {'y': *}]])"
      ]
     },
     "execution_count": 24,
     "metadata": {},
     "output_type": "execute_result"
    }
   ],
   "source": [
    "tree_structure(some_data)"
   ]
  },
  {
   "cell_type": "markdown",
   "metadata": {},
   "source": [
    "What does JAX treat as a leaf, and what does it treat as the structure in which all the leaves are contained? \n",
    "\n",
    "By default:\n",
    "\n",
    "- *leaves* include arrays (NumPy or JAX) and basic data types (like `int`, `float`, `str`, and `bool`)\n",
    "- *nodes* are lists, dicts, and tuples, which are pytrees themselves. When JAX encounters these, its default stance is that \"nesting continues here\"—so it looks inside the node for leaves, or even deeper layers of nodes.\n",
    "\n",
    "Importantly, we can change what counts as a leaf. Many functions that operate on PyTrees can take an argument `is_leaf`."
   ]
  },
  {
   "cell_type": "code",
   "execution_count": 41,
   "metadata": {},
   "outputs": [
    {
     "data": {
      "text/plain": [
       "[{'p': [1, 2], 'x': 1.0}, 5, 6, 7, 8, {'y': Array([2, 2, 2], dtype=int32)}]"
      ]
     },
     "execution_count": 41,
     "metadata": {},
     "output_type": "execute_result"
    }
   ],
   "source": [
    "tree_leaves(some_data, is_leaf=lambda x: isinstance(x, dict))"
   ]
  },
  {
   "cell_type": "code",
   "execution_count": 42,
   "metadata": {},
   "outputs": [
    {
     "data": {
      "text/plain": [
       "PyTreeDef([*, [*, *, *, *, *]])"
      ]
     },
     "execution_count": 42,
     "metadata": {},
     "output_type": "execute_result"
    }
   ],
   "source": [
    "tree_structure(some_data, is_leaf=lambda x: isinstance(x, dict))"
   ]
  },
  {
   "cell_type": "markdown",
   "metadata": {},
   "source": [
    "Here, we've told JAX to treat dicts as leaves, rather than as containers. Now, the dicts in `some_data` appear whole and unflattened in the list of its leaves, and the pytree structure reflects this. "
   ]
  },
  {
   "cell_type": "markdown",
   "metadata": {},
   "source": [
    "Because JAX understands the structure of pytrees, we can apply operations to pytree whose structures match."
   ]
  },
  {
   "cell_type": "code",
   "execution_count": 36,
   "metadata": {},
   "outputs": [
    {
     "data": {
      "text/plain": [
       "True"
      ]
     },
     "execution_count": 36,
     "metadata": {},
     "output_type": "execute_result"
    }
   ],
   "source": [
    "some_arrays = [\n",
    "    (jnp.array([1, 2]), jnp.array([3, 4])),\n",
    "    jnp.array([5, 6])\n",
    "]\n",
    "\n",
    "some_other_arrays = [\n",
    "    (jnp.array([7, 8]), jnp.array([3, 4])),\n",
    "    jnp.array([1, 1])\n",
    "]\n",
    "\n",
    "tree_structure(some_arrays) == tree_structure(some_other_arrays)"
   ]
  },
  {
   "cell_type": "code",
   "execution_count": 37,
   "metadata": {},
   "outputs": [
    {
     "data": {
      "text/plain": [
       "[(Array([ 8, 10], dtype=int32), Array([6, 8], dtype=int32)),\n",
       " Array([6, 7], dtype=int32)]"
      ]
     },
     "execution_count": 37,
     "metadata": {},
     "output_type": "execute_result"
    }
   ],
   "source": [
    "tree_map(\n",
    "    lambda x, y: x + y, \n",
    "    some_arrays, \n",
    "    some_other_arrays\n",
    ")"
   ]
  },
  {
   "cell_type": "markdown",
   "metadata": {},
   "source": [
    "We've relied on the fact that `tree_map` can work \"leafwise\" to pick out the arguments to a function: the `x` values are the leaves from `some_arrays`, and the `y` values are the matching leaves from `some_other_arrays`.\n",
    "\n",
    "However, if we tell JAX to treat tuples as leaves, then the result is different: the first `x`, `y` passed to the function will be a pair of tuples, and we'll end up concatenating them instead of adding the arrays inside them. "
   ]
  },
  {
   "cell_type": "code",
   "execution_count": 38,
   "metadata": {},
   "outputs": [
    {
     "data": {
      "text/plain": [
       "[(Array([1, 2], dtype=int32),\n",
       "  Array([3, 4], dtype=int32),\n",
       "  Array([7, 8], dtype=int32),\n",
       "  Array([3, 4], dtype=int32)),\n",
       " Array([6, 7], dtype=int32)]"
      ]
     },
     "execution_count": 38,
     "metadata": {},
     "output_type": "execute_result"
    }
   ],
   "source": [
    "tree_map(\n",
    "    lambda x, y: x + y, \n",
    "    some_arrays, \n",
    "    some_other_arrays,\n",
    "    is_leaf=lambda x: isinstance(x, tuple)\n",
    ")"
   ]
  },
  {
   "cell_type": "markdown",
   "metadata": {},
   "source": [
    "The array that's not inside a tuple gets added the same way it did before, because it still counts as a leaf—it's just that now, tuples *also* count as leaves."
   ]
  },
  {
   "cell_type": "markdown",
   "metadata": {},
   "source": [
    "### A pytree of your own\n",
    "\n",
    "If lists, dicts, and tuples aren't enough for us, we can define our own types of containers, tell JAX how to treat them like pytrees, and it will do so! This isn't very hard to do.\n",
    "\n",
    "Equinox."
   ]
  },
  {
   "cell_type": "markdown",
   "metadata": {},
   "source": [
    "### Feedbax and pytrees"
   ]
  },
  {
   "cell_type": "markdown",
   "metadata": {},
   "source": [
    "Most objects in Feedbax are derived from `eqx.Module`. That means they are automatically treated as pytrees. \n",
    "\n",
    "This is why we can print the structure of a model so easily."
   ]
  },
  {
   "cell_type": "markdown",
   "metadata": {},
   "source": [
    "## Vectorisation and `vmap`\n",
    "\n",
    "The power of pytrees goes much deeper than we've seen here. The core JAX transformations, jax.vmap and jax.grad\n",
    "\n",
    "!!! NOTE    \n",
    "    If you run into problems with `jax.vmap`, try using Equinox's `filter_vmap` as we've done above. It does the same thing, but a little more intelligently."
   ]
  },
  {
   "cell_type": "markdown",
   "metadata": {},
   "source": [
    "## Equinox\n",
    "\n",
    "Allows us to keep model parameters together with model code, similar to PyTorch `nn.Module`.\n",
    "\n",
    "However, immutable.\n",
    "\n",
    "!!! Note\n",
    "    Equinox's [`Module`](https://docs.kidger.site/equinox/api/module/module/#equinox.Module) is kind of like PyTorch's [`nn.Module`](https://pytorch.org/docs/stable/generated/torch.nn.Module.html). However, in PyTorch we define the model's computation in the `forward` method, rather than `__call__`. \n",
    "    \n",
    "    Note that PyTorch must still define `__call__` in the background to have its module objects behave like functions. "
   ]
  },
  {
   "cell_type": "markdown",
   "metadata": {},
   "source": [
    "### Performing surgery\n",
    "\n",
    "We have a model, and want to change just one part of it. How can we do that?\n",
    "\n",
    "In Feedbax, and across the JAX ecosystem, objects are often *immutable* once they are constructed. That means we can't simply alter them once they've been created. This won't slow us down in the end, and it has advantages. It does require a slightly different programming style than you might be used to, though.\n",
    "\n",
    "!!! Note     \n",
    "    Feedbax objects are immutable because they are Equinox modules. It's Equinox that enforces the rules we'll discuss in this example.\n",
    "\n",
    "Let's start with a pre-built model."
   ]
  },
  {
   "cell_type": "code",
   "execution_count": null,
   "metadata": {},
   "outputs": [
    {
     "name": "stderr",
     "output_type": "stream",
     "text": [
      "CUDA backend failed to initialize: Unable to load CUDA. Is it installed? (Set TF_CPP_MIN_LOG_LEVEL=0 and rerun for more info.)\n",
      "/home/mll/.miniforge3/envs/fx/lib/python3.11/site-packages/diffrax/adjoint.py:665: UserWarning: As of Equinox 0.10.7, `equinox.filter_custom_vjp.defvjp` is deprecated in favour of `.def_fwd` and `.def_bwd`. This new API supports symbolic zeros, which allow for more efficient autodifferentiation rules. In particular:\n",
      "- the fwd and bwd functions take an extra `perturbed` argument, which     indicates which primals actually need a gradient. You can use this     to skip computing the gradient for any unperturbed value. (You can     also safely just ignore this if you wish.)\n",
      "- `None` was previously passed to indicate a symbolic zero gradient for     all objects that weren't inexact arrays, but all inexact arrays     always had an array-valued gradient. Now, `None` may also be passed     to indicate that an inexact array has a symbolic zero gradient.\n",
      "  _loop_backsolve.defvjp(_loop_backsolve_fwd, _loop_backsolve_bwd)\n"
     ]
    }
   ],
   "source": [
    "import jax\n",
    "\n",
    "from feedbax.xabdeef import point_mass_nn_simple_reaches\n",
    "\n",
    "\n",
    "context = point_mass_nn_simple_reaches(key=jax.random.PRNGKey(0))\n",
    "model = context.model  # Shorthand"
   ]
  },
  {
   "cell_type": "markdown",
   "metadata": {},
   "source": [
    "This model has a point mass of mass $1.0$ as its skeleton."
   ]
  },
  {
   "cell_type": "code",
   "execution_count": null,
   "metadata": {},
   "outputs": [
    {
     "data": {
      "text/plain": [
       "PointMass(mass=1.0)"
      ]
     },
     "metadata": {},
     "output_type": "display_data"
    }
   ],
   "source": [
    "model.step.mechanics.plant.skeleton"
   ]
  },
  {
   "cell_type": "markdown",
   "metadata": {},
   "source": [
    "If we try to directly alter the model to use a point mass of mass $5.0$, an error is raised."
   ]
  },
  {
   "cell_type": "code",
   "execution_count": null,
   "metadata": {},
   "outputs": [
    {
     "ename": "FrozenInstanceError",
     "evalue": "cannot assign to field 'skeleton'",
     "output_type": "error",
     "traceback": [
      "\u001b[0;31m---------------------------------------------------------------------------\u001b[0m\n",
      "\u001b[0;31mFrozenInstanceError\u001b[0m                       Traceback (most recent call last)\n",
      "Cell \u001b[0;32mIn[4], line 4\u001b[0m\n",
      "\u001b[1;32m      1\u001b[0m \u001b[38;5;28;01mfrom\u001b[39;00m \u001b[38;5;21;01mfeedbax\u001b[39;00m\u001b[38;5;21;01m.\u001b[39;00m\u001b[38;5;21;01mmechanics\u001b[39;00m\u001b[38;5;21;01m.\u001b[39;00m\u001b[38;5;21;01mskeleton\u001b[39;00m \u001b[38;5;28;01mimport\u001b[39;00m PointMass \n",
      "\u001b[1;32m      3\u001b[0m \u001b[38;5;66;03m# Try to replace the entire point mass\u001b[39;00m\n",
      "\u001b[0;32m----> 4\u001b[0m \u001b[43mmodel\u001b[49m\u001b[38;5;241;43m.\u001b[39;49m\u001b[43mstep\u001b[49m\u001b[38;5;241;43m.\u001b[39;49m\u001b[43mmechanics\u001b[49m\u001b[38;5;241;43m.\u001b[39;49m\u001b[43mplant\u001b[49m\u001b[38;5;241;43m.\u001b[39;49m\u001b[43mskeleton\u001b[49m \u001b[38;5;241m=\u001b[39m PointMass(\u001b[38;5;241m5.0\u001b[39m)\n",
      "\n",
      "File \u001b[0;32m<string>:4\u001b[0m, in \u001b[0;36m__setattr__\u001b[0;34m(self, name, value)\u001b[0m\n",
      "\n",
      "\u001b[0;31mFrozenInstanceError\u001b[0m: cannot assign to field 'skeleton'"
     ]
    }
   ],
   "source": [
    "from feedbax.mechanics.skeleton import PointMass \n",
    "\n",
    "# Try to replace the entire point mass\n",
    "model.step.mechanics.plant.skeleton = PointMass(5.0)"
   ]
  },
  {
   "cell_type": "code",
   "execution_count": null,
   "metadata": {},
   "outputs": [
    {
     "ename": "FrozenInstanceError",
     "evalue": "cannot assign to field 'mass'",
     "output_type": "error",
     "traceback": [
      "\u001b[0;31m---------------------------------------------------------------------------\u001b[0m\n",
      "\u001b[0;31mFrozenInstanceError\u001b[0m                       Traceback (most recent call last)\n",
      "Cell \u001b[0;32mIn[7], line 2\u001b[0m\n",
      "\u001b[1;32m      1\u001b[0m \u001b[38;5;66;03m# Try to just change the mass\u001b[39;00m\n",
      "\u001b[0;32m----> 2\u001b[0m \u001b[43mmodel\u001b[49m\u001b[38;5;241;43m.\u001b[39;49m\u001b[43mstep\u001b[49m\u001b[38;5;241;43m.\u001b[39;49m\u001b[43mmechanics\u001b[49m\u001b[38;5;241;43m.\u001b[39;49m\u001b[43mplant\u001b[49m\u001b[38;5;241;43m.\u001b[39;49m\u001b[43mskeleton\u001b[49m\u001b[38;5;241;43m.\u001b[39;49m\u001b[43mmass\u001b[49m \u001b[38;5;241m=\u001b[39m \u001b[38;5;241m5.0\u001b[39m\n",
      "\n",
      "File \u001b[0;32m<string>:4\u001b[0m, in \u001b[0;36m__setattr__\u001b[0;34m(self, name, value)\u001b[0m\n",
      "\n",
      "\u001b[0;31mFrozenInstanceError\u001b[0m: cannot assign to field 'mass'"
     ]
    }
   ],
   "source": [
    "# Or just try to change the mass\n",
    "model.step.mechanics.plant.skeleton.mass = 5.0"
   ]
  },
  {
   "cell_type": "markdown",
   "metadata": {},
   "source": [
    "This kind of direct re-assignment is common in Python. It might seem inconvenient to have it outlawed! \n",
    "\n",
    "Well, it is still possible to alter our model. But if we want to switch out just the point mass, we have to do something slightly more complex."
   ]
  },
  {
   "cell_type": "code",
   "execution_count": null,
   "metadata": {},
   "outputs": [],
   "source": [
    "import equinox as eqx\n",
    "\n",
    "model_heavy = eqx.tree_at(\n",
    "    lambda m: m.step.mechanics.plant.skeleton, \n",
    "    model, \n",
    "    PointMass(5.0)\n",
    ")"
   ]
  },
  {
   "cell_type": "markdown",
   "metadata": {},
   "source": [
    "To replace a part of our model tree, we use the `tree_at` function provided by Equinox. \n",
    "\n",
    "The use of `lambda` in the first agument to `tree_at` is similar to the `lambda` we used in Example 1. There, we defined a function `where_train` that picked out which parts of the model should be trainable. Here, our function picks out which part of our model will be replaced.\n",
    "\n",
    "The second argument is just `model`, which is the model we want to alter. \n",
    "\n",
    "The third argument is the part we want to replace it with.\n",
    "\n",
    "Why the added complexity? *It forces us never to alter our models in-place*. The function `eqx.tree_at` does not modify `model` directly, but *returns a copy* of `model` which possesses the alterations. Here, we assign the new object to `model_heavy`, since maybe we want to be able to refer to both the original model (still called `model`!) and the altered one. But we could just as easily have written"
   ]
  },
  {
   "cell_type": "code",
   "execution_count": null,
   "metadata": {},
   "outputs": [],
   "source": [
    "model = eqx.tree_at(\n",
    "    lambda m: m.step.mechanics.plant.skeleton, \n",
    "    model, \n",
    "    PointMass(5.0)\n",
    ")"
   ]
  },
  {
   "cell_type": "markdown",
   "metadata": {},
   "source": [
    "This means \"create an altered model, and make it so that `model` now refers to the new model---I don't need to refer to the original one by that name anymore\".\n",
    "\n",
    "There are downstream advantages to our ban. The downside to in-place changes is that it can be hard to keep track of their hidden consequences. Some parts of my code may depend on a given object, and if other parts of my code can reach into that object and make implicit alterations, the relationships within my code may be altered without consent of all the stakeholders, so to speak.\n",
    "\n",
    "When we are forced to *return* an altered object rather than *mutate* an existing object, the consequences are always out in the open. We have to be explicit about what-refers-to-what, with respect to what-has-changed. "
   ]
  },
  {
   "cell_type": "markdown",
   "metadata": {},
   "source": [
    "- We also can't alter JAX arrays in-place. Use of `at` and `set`."
   ]
  },
  {
   "cell_type": "markdown",
   "metadata": {},
   "source": []
  },
  {
   "cell_type": "markdown",
   "metadata": {},
   "source": []
  }
 ],
 "metadata": {
  "kernelspec": {
   "display_name": "fx",
   "language": "python",
   "name": "python3"
  },
  "language_info": {
   "codemirror_mode": {
    "name": "ipython",
    "version": 3
   },
   "file_extension": ".py",
   "mimetype": "text/x-python",
   "name": "python",
   "nbconvert_exporter": "python",
   "pygments_lexer": "ipython3",
   "version": "3.11.0"
  }
 },
 "nbformat": 4,
 "nbformat_minor": 2
}
