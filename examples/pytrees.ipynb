{
 "cells": [
  {
   "cell_type": "markdown",
   "metadata": {},
   "source": [
    "# JAX and Pytrees\n",
    "\n",
    "## Why JAX?\n",
    "\n",
    "NumPy.\n",
    "\n",
    "Functional. \n",
    "Stateless. State is something *returned* by a model, not something a model \"possesses\".\n",
    "\n",
    "Random number generation.\n",
    "\n",
    "## Equinox\n",
    "\n",
    "Allows us to keep model parameters together with model code, similar to PyTorch `nn.Module`.\n",
    "\n",
    "However, immutable.\n",
    "\n",
    "## Pytrees\n",
    "\n",
    "One thing that makes JAX nice and powerful is the consistent way that its tools interact with data that is organized in arbitrarily nested Python containers.\n",
    "\n",
    "Feedbax relies on these capabilities, so if you are unfamiliar with *pytrees*, please read this short tutorial and check out the JAX [documentation](https://jax.readthedocs.io/en/latest/pytrees.html) as well.\n",
    "\n",
    "Say we have a list and a dict that contain similar values."
   ]
  },
  {
   "cell_type": "code",
   "execution_count": 1,
   "metadata": {},
   "outputs": [
    {
     "name": "stdout",
     "output_type": "stream",
     "text": [
      "{'a': 1, 'b': 2, 'c': 3}\n"
     ]
    }
   ],
   "source": [
    "some_list = [1, 2, 3]\n",
    "\n",
    "some_dict = {'a': 1, 'b': 2, 'c': 3}"
   ]
  },
  {
   "cell_type": "markdown",
   "metadata": {},
   "source": [
    "In standard Python, a *comprehension* is a typical way of applying some computation to every value in a list or dict."
   ]
  },
  {
   "cell_type": "code",
   "execution_count": 6,
   "metadata": {},
   "outputs": [
    {
     "data": {
      "text/plain": [
       "[1, 4, 9]"
      ]
     },
     "execution_count": 6,
     "metadata": {},
     "output_type": "execute_result"
    }
   ],
   "source": [
    "[x ** 2 for x in some_list]"
   ]
  },
  {
   "cell_type": "code",
   "execution_count": 7,
   "metadata": {},
   "outputs": [
    {
     "data": {
      "text/plain": [
       "{'a': 1, 'b': 4, 'c': 9}"
      ]
     },
     "execution_count": 7,
     "metadata": {},
     "output_type": "execute_result"
    }
   ],
   "source": [
    "{k: x ** 2 for k, x in some_dict.items()}"
   ]
  },
  {
   "cell_type": "markdown",
   "metadata": {},
   "source": [
    "While these solutions are similar, they are not interchangeable. If our data is a list we can use the first method and get a list in return. But as soon as we start using some data that's stored in a dict, we need to change our code.\n",
    "\n",
    "Conveniently, JAX provides a function `tree_map` that behaves exactly the same way for both lists and dicts."
   ]
  },
  {
   "cell_type": "code",
   "execution_count": 16,
   "metadata": {},
   "outputs": [
    {
     "data": {
      "text/plain": [
       "[1, 4, 9]"
      ]
     },
     "execution_count": 16,
     "metadata": {},
     "output_type": "execute_result"
    }
   ],
   "source": [
    "from jax.tree_util import tree_map\n",
    "\n",
    "tree_map(lambda x: x ** 2, some_list)"
   ]
  },
  {
   "cell_type": "code",
   "execution_count": 17,
   "metadata": {},
   "outputs": [
    {
     "data": {
      "text/plain": [
       "{'a': 1, 'b': 4, 'c': 9}"
      ]
     },
     "execution_count": 17,
     "metadata": {},
     "output_type": "execute_result"
    }
   ],
   "source": [
    "tree_map(lambda x: x ** 2, some_dict)"
   ]
  },
  {
   "cell_type": "markdown",
   "metadata": {},
   "source": [
    "!!! Note    \n",
    "    Python includes a built-in function `map` which is similar in principle to `tree_map`. For example, we can do `list(map(lambda x: x**2, some_list))` to get the same result as `tree_map(lambda x: x**2, some_list)`. However, `map` doesn't return the same data structure it is given: to square all the values in a dict, and return a dict like we did with `tree_map`, we'd have to do something like `dict(zip(some_dict.keys(), map(lambda x: x**2, some_dict.values())))`. Obviously, this is ugly and harder to read.\n",
    "\n",
    "Even better, `tree_map` works on nested containers. "
   ]
  },
  {
   "cell_type": "code",
   "execution_count": 39,
   "metadata": {},
   "outputs": [
    {
     "data": {
      "text/plain": [
       "[{'p': [1, 4], 'x': 1.0},\n",
       " [25, 36, 49, 64, {'y': Array([4, 4, 4], dtype=int32)}]]"
      ]
     },
     "execution_count": 39,
     "metadata": {},
     "output_type": "execute_result"
    }
   ],
   "source": [
    "import jax.numpy as jnp\n",
    "\n",
    "some_data = [{'p': [1, 2], 'x': 1.0}, \n",
    "             [5, 6, 7, 8, {'y': jnp.array([2, 2, 2])}]]\n",
    "\n",
    "tree_map(lambda x: x ** 2, some_data)"
   ]
  },
  {
   "cell_type": "markdown",
   "metadata": {},
   "source": [
    "How does this work? JAX considers both lists and dicts—and any nested structures of lists and dicts—to be *pytrees*.\n",
    "\n",
    "A pytree's *leaves* are the data it ultimately contains."
   ]
  },
  {
   "cell_type": "code",
   "execution_count": 40,
   "metadata": {},
   "outputs": [
    {
     "data": {
      "text/plain": [
       "[1, 2, 1.0, 5, 6, 7, 8, Array([2, 2, 2], dtype=int32)]"
      ]
     },
     "execution_count": 40,
     "metadata": {},
     "output_type": "execute_result"
    }
   ],
   "source": [
    "from jax.tree_util import tree_leaves, tree_structure\n",
    "\n",
    "tree_leaves(some_data)"
   ]
  },
  {
   "cell_type": "markdown",
   "metadata": {},
   "source": [
    "Those leaves are arranged in a tree with a certain structure. "
   ]
  },
  {
   "cell_type": "code",
   "execution_count": 24,
   "metadata": {},
   "outputs": [
    {
     "data": {
      "text/plain": [
       "PyTreeDef([{'p': [*, *], 'x': *}, [*, *, *, *, {'y': *}]])"
      ]
     },
     "execution_count": 24,
     "metadata": {},
     "output_type": "execute_result"
    }
   ],
   "source": [
    "tree_structure(some_data)"
   ]
  },
  {
   "cell_type": "markdown",
   "metadata": {},
   "source": [
    "What does JAX treat as a leaf, and what does it treat as the structure in which all the leaves are contained? \n",
    "\n",
    "By default:\n",
    "\n",
    "- *leaves* include arrays (NumPy or JAX) and basic data types (like `int`, `float`, `str`, and `bool`)\n",
    "- *nodes* are lists, dicts, and tuples, which are pytrees themselves. When JAX encounters these, its default stance is that \"nesting continues here\"—so it looks inside the node for leaves, or even deeper layers of nodes.\n",
    "\n",
    "Importantly, we can change what counts as a leaf. Many functions that operate on PyTrees can take an argument `is_leaf`."
   ]
  },
  {
   "cell_type": "code",
   "execution_count": 41,
   "metadata": {},
   "outputs": [
    {
     "data": {
      "text/plain": [
       "[{'p': [1, 2], 'x': 1.0}, 5, 6, 7, 8, {'y': Array([2, 2, 2], dtype=int32)}]"
      ]
     },
     "execution_count": 41,
     "metadata": {},
     "output_type": "execute_result"
    }
   ],
   "source": [
    "tree_leaves(some_data, is_leaf=lambda x: isinstance(x, dict))"
   ]
  },
  {
   "cell_type": "code",
   "execution_count": 42,
   "metadata": {},
   "outputs": [
    {
     "data": {
      "text/plain": [
       "PyTreeDef([*, [*, *, *, *, *]])"
      ]
     },
     "execution_count": 42,
     "metadata": {},
     "output_type": "execute_result"
    }
   ],
   "source": [
    "tree_structure(some_data, is_leaf=lambda x: isinstance(x, dict))"
   ]
  },
  {
   "cell_type": "markdown",
   "metadata": {},
   "source": [
    "Here, we've told JAX to treat dicts as leaves, rather than as containers. Now, the dicts in `some_data` appear whole and unflattened in the list of its leaves, and the pytree structure reflects this. "
   ]
  },
  {
   "cell_type": "markdown",
   "metadata": {},
   "source": [
    "Because JAX understands the structure of pytrees, we can apply operations to pytree whose structures match."
   ]
  },
  {
   "cell_type": "code",
   "execution_count": 36,
   "metadata": {},
   "outputs": [
    {
     "data": {
      "text/plain": [
       "True"
      ]
     },
     "execution_count": 36,
     "metadata": {},
     "output_type": "execute_result"
    }
   ],
   "source": [
    "some_arrays = [\n",
    "    (jnp.array([1, 2]), jnp.array([3, 4])),\n",
    "    jnp.array([5, 6])\n",
    "]\n",
    "\n",
    "some_other_arrays = [\n",
    "    (jnp.array([7, 8]), jnp.array([3, 4])),\n",
    "    jnp.array([1, 1])\n",
    "]\n",
    "\n",
    "tree_structure(some_arrays) == tree_structure(some_other_arrays)"
   ]
  },
  {
   "cell_type": "code",
   "execution_count": 37,
   "metadata": {},
   "outputs": [
    {
     "data": {
      "text/plain": [
       "[(Array([ 8, 10], dtype=int32), Array([6, 8], dtype=int32)),\n",
       " Array([6, 7], dtype=int32)]"
      ]
     },
     "execution_count": 37,
     "metadata": {},
     "output_type": "execute_result"
    }
   ],
   "source": [
    "tree_map(\n",
    "    lambda x, y: x + y, \n",
    "    some_arrays, \n",
    "    some_other_arrays\n",
    ")"
   ]
  },
  {
   "cell_type": "markdown",
   "metadata": {},
   "source": [
    "We've relied on the fact that `tree_map` can work \"leafwise\" to pick out the arguments to a function: the `x` values are the leaves from `some_arrays`, and the `y` values are the matching leaves from `some_other_arrays`.\n",
    "\n",
    "However, if we tell JAX to treat tuples as leaves, then the result is different: the first `x`, `y` passed to the function will be a pair of tuples, and we'll end up concatenating them instead of adding the arrays inside them. "
   ]
  },
  {
   "cell_type": "code",
   "execution_count": 38,
   "metadata": {},
   "outputs": [
    {
     "data": {
      "text/plain": [
       "[(Array([1, 2], dtype=int32),\n",
       "  Array([3, 4], dtype=int32),\n",
       "  Array([7, 8], dtype=int32),\n",
       "  Array([3, 4], dtype=int32)),\n",
       " Array([6, 7], dtype=int32)]"
      ]
     },
     "execution_count": 38,
     "metadata": {},
     "output_type": "execute_result"
    }
   ],
   "source": [
    "tree_map(\n",
    "    lambda x, y: x + y, \n",
    "    some_arrays, \n",
    "    some_other_arrays,\n",
    "    is_leaf=lambda x: isinstance(x, tuple)\n",
    ")"
   ]
  },
  {
   "cell_type": "markdown",
   "metadata": {},
   "source": [
    "The array that's not inside a tuple gets added the same way it did before, because it still counts as a leaf—it's just that now, tuples *also* count as leaves."
   ]
  },
  {
   "cell_type": "markdown",
   "metadata": {},
   "source": [
    "### A pytree of your own\n",
    "\n",
    "If lists, dicts, and tuples aren't enough for us, we can define our own types of containers, tell JAX how to treat them like pytrees, and it will do so! This isn't very hard to do.\n",
    "\n",
    "Equinox."
   ]
  },
  {
   "cell_type": "markdown",
   "metadata": {},
   "source": [
    "### Feedbax and pytrees"
   ]
  },
  {
   "cell_type": "markdown",
   "metadata": {},
   "source": [
    "Most objects in Feedbax are derived from `eqx.Module`. That means they are automatically treated as pytrees. \n",
    "\n",
    "This is why we can print the structure of a model so easily."
   ]
  },
  {
   "cell_type": "markdown",
   "metadata": {},
   "source": [
    "## Vectorisation and `vmap`\n",
    "\n",
    "The power of pytrees goes much deeper than we've seen here. The core JAX transformations, jax.vmap and jax.grad"
   ]
  },
  {
   "cell_type": "markdown",
   "metadata": {},
   "source": []
  }
 ],
 "metadata": {
  "kernelspec": {
   "display_name": "fx",
   "language": "python",
   "name": "python3"
  },
  "language_info": {
   "codemirror_mode": {
    "name": "ipython",
    "version": 3
   },
   "file_extension": ".py",
   "mimetype": "text/x-python",
   "name": "python",
   "nbconvert_exporter": "python",
   "pygments_lexer": "ipython3",
   "version": "3.11.0"
  }
 },
 "nbformat": 4,
 "nbformat_minor": 2
}
