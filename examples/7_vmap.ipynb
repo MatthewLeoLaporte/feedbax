{
 "cells": [
  {
   "cell_type": "markdown",
   "metadata": {},
   "source": [
    "# Training and evaluating multiple models in parallel\n",
    "\n",
    "- One of the best features of JAX: [`vmap`](https://jax.readthedocs.io/en/latest/jax-101/03-vectorization.html)\n",
    "- Easy parallel execution"
   ]
  },
  {
   "cell_type": "code",
   "execution_count": null,
   "metadata": {
    "vscode": {
     "languageId": "plaintext"
    }
   },
   "outputs": [],
   "source": []
  }
 ],
 "metadata": {
  "language_info": {
   "name": "python"
  }
 },
 "nbformat": 4,
 "nbformat_minor": 2
}
