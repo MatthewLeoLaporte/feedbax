{
 "cells": [
  {
   "cell_type": "code",
   "execution_count": null,
   "metadata": {},
   "outputs": [],
   "source": []
  },
  {
   "cell_type": "markdown",
   "metadata": {},
   "source": [
    "# Debugging\n",
    "\n",
    "Debugging mode can be turned on globally by setting the `FEEDBAX_DEBUG` environment variable to `\"True\"`. \n",
    "\n",
    "This can be done from within Python, shown below, or by setting `FEEDBAX_DEBUG=True` in your shell before running Python from the command line."
   ]
  },
  {
   "cell_type": "code",
   "execution_count": null,
   "metadata": {},
   "outputs": [],
   "source": [
    "import os\n",
    "\n",
    "os.environ[\"FEEDBAX_DEBUG\"] = str(True)"
   ]
  },
  {
   "cell_type": "markdown",
   "metadata": {},
   "source": [
    "The main debugging feature implemented in Feedbax so far is automatic logging of the state operations performed by any subclass of `AbstractStagedModel`. "
   ]
  },
  {
   "cell_type": "markdown",
   "metadata": {},
   "source": [
    "JAX disable JIT?"
   ]
  },
  {
   "cell_type": "markdown",
   "metadata": {},
   "source": []
  },
  {
   "cell_type": "code",
   "execution_count": null,
   "metadata": {},
   "outputs": [],
   "source": [
    "jax.config.update(\"jax_debug_nans\", DEBUG)\n",
    "jax.config.update('jax_disable_jit', DISABLE_JIT)"
   ]
  }
 ],
 "metadata": {
  "language_info": {
   "name": "python"
  }
 },
 "nbformat": 4,
 "nbformat_minor": 2
}
