{
 "cells": [
  {
   "cell_type": "markdown",
   "metadata": {},
   "source": [
    "# Loss functions\n",
    "  \n",
    "In Feedbax, each task object—each instance of any type of [`AbstractTask`][feedbax.task.AbstractTask]—must provide a loss function that is used to score performance on that task. Generally, the loss will be calculated based on information in the model state (an instance of some type of `AbstractState`).\n",
    "\n",
    "??? INFO \"Background on loss functions\"\n",
    "    In optimal control, we measure how well a task is performed using a *cost function*. In machine learning, the same concept is called a *loss function*. The larger the value of the loss function, the worse the performance on the task. \n",
    "\n",
    "    Loss functions may be composed of multiple *loss terms*, which measure different aspects of performance. Terms are evaluated separately, then (typically) weighted and summed to give the total value of the loss. \n",
    "\n",
    "    A movement model generates trajectories of positions, velocities, and forces over time. Loss terms are often quadratic functions which are calculated locally for each time step in a trajectory, then summed or averaged to give the overall value for the loss term across the entire trajectory, prior to its being added to the other loss terms. \n",
    "    \n",
    "    For example, when controlling a point mass to reach from a starting position to a goal position, the *position error loss* for the entire reach reach might be evaluated like so: at each time step of the reach, take the difference between the current position of the point mass and the goal position, and square it; repeat this at every time step, and sum the results across all timesteps. This value will be larger, the longer and farther the point mass stays away from the goal position.\n",
    "    \n",
    "    Some loss terms may only be calculated for a subset of time steps. For a reaching task, we might include a loss term that penalizes the square of the velocity but only on the final time step, because we want the point mass to stop at the goal position rather than simply pass through it. It would not make sense to apply this loss term at time steps in the middle of the reach, when the point mass ought to be moving at a non-zero velocity toward the goal!\n",
    "\n",
    "Common loss terms, such as [`EffectorPositionLoss`][feedbax.loss.EffectorPositionLoss] and [`EffectorFinalVelocityLoss`][feedbax.loss.EffectorFinalVelocityLoss], are defined in `feedbax.loss`. A loss function with multiple weighted terms can be defined in an algebraic manner.\n"
   ]
  },
  {
   "cell_type": "code",
   "execution_count": null,
   "metadata": {},
   "outputs": [],
   "source": [
    "from feedbax.loss import (\n",
    "    EffectorFinalVelocityLoss,\n",
    "    EffectorPositionLoss,\n",
    "    NetworkActivityLoss,\n",
    "    NetworkOutputLoss,\n",
    ")\n",
    "\n",
    "loss_func = (\n",
    "    1.0 * EffectorPositionLoss()\n",
    "    + 1.0 * EffectorFinalVelocityLoss()\n",
    "    + 1e-5 * NetworkOutputLoss()\n",
    "    + 1e-5 * NetworkActivityLoss()\n",
    ")"
   ]
  },
  {
   "cell_type": "markdown",
   "metadata": {},
   "source": [
    "This is easy to read, and—visually—close to the mathematics.\n",
    "\n",
    "Typically, after constructing a loss we'll pass it to a task object we're constructing. For example:\n",
    "\n",
    "```python\n",
    "task = SimpleReaches(loss_func=loss_func, ...)\n",
    "```\n",
    "\n",
    "Feedbax is flexible about how losses are constructed. The following achieves the same result we did above."
   ]
  },
  {
   "cell_type": "code",
   "execution_count": null,
   "metadata": {},
   "outputs": [],
   "source": [
    "from feedbax.loss import CompositeLoss\n",
    "\n",
    "\n",
    "loss_func = CompositeLoss(\n",
    "    dict(\n",
    "        effector_position=EffectorPositionLoss(),\n",
    "        effector_final_velocity=EffectorFinalVelocityLoss(),\n",
    "        nn_output=NetworkOutputLoss(),\n",
    "        nn_hidden=NetworkActivityLoss(),\n",
    "    ),\n",
    "    weights=dict(\n",
    "        effector_position=1.0,\n",
    "        effector_final_velocity=1.0,\n",
    "        nn_output=1e-5,\n",
    "        nn_hidden=1e-5,\n",
    "    ),\n",
    ")\n",
    "\n",
    "loss_func = CompositeLoss(\n",
    "    [\n",
    "        EffectorPositionLoss(),\n",
    "        EffectorFinalVelocityLoss(),\n",
    "        NetworkOutputLoss(),\n",
    "        NetworkActivityLoss(),\n",
    "    ],\n",
    "    weights=[1.0, 1.0, 1e-5, 1e-5],\n",
    ")"
   ]
  },
  {
   "cell_type": "markdown",
   "metadata": {},
   "source": [
    "`CompositeLoss` allows us to group multiple terms into a single loss function—actually, it's what's constructed in the background when we write the loss function in algebraic form, like we did previously.\n",
    "\n",
    "The two approaches can be mixed together."
   ]
  },
  {
   "cell_type": "code",
   "execution_count": null,
   "metadata": {},
   "outputs": [],
   "source": [
    "loss_func = CompositeLoss(\n",
    "    [\n",
    "        EffectorPositionLoss(),\n",
    "        EffectorFinalVelocityLoss(),\n",
    "        NetworkOutputLoss(),\n",
    "    ],\n",
    "    weights=[1.0, 1.0, 1e-5],\n",
    ")\n",
    "\n",
    "# Add another term onto a composite loss we've already defined.\n",
    "loss_func_plus = loss_func + 1e-5 * NetworkActivityLoss()"
   ]
  },
  {
   "cell_type": "markdown",
   "metadata": {},
   "source": [
    "## `LossDict`\n",
    "\n",
    "When called, all `AbstractLoss` instances return a `LossDict` object. \n",
    "\n",
    "To see what this looks like, let's instantiate a model and evaluate it, then calculate the loss."
   ]
  },
  {
   "cell_type": "code",
   "execution_count": 7,
   "metadata": {},
   "outputs": [],
   "source": [
    "import jax\n",
    "\n",
    "from feedbax.xabdeef import point_mass_nn_simple_reaches\n",
    "\n",
    "\n",
    "key_init, key_eval = jax.random.split(jax.random.PRNGKey(0))\n",
    "context = point_mass_nn_simple_reaches(key=key_init)\n",
    "task, model = context.task, context.model\n",
    "\n",
    "# We won't bother to train the model for this example\n",
    "\n",
    "states = task.eval(model, key=key_eval)\n",
    "\n",
    "# the loss function requires both the model states, and the trial information\n",
    "loss = task.loss_func(states, task.validation_trials)"
   ]
  },
  {
   "cell_type": "markdown",
   "metadata": {},
   "source": [
    "We can also get losses and states simultaneously."
   ]
  },
  {
   "cell_type": "code",
   "execution_count": 8,
   "metadata": {},
   "outputs": [
    {
     "ename": "AttributeError",
     "evalue": "'SimpleReaches' object has no attribute 'eval_with_loss'",
     "output_type": "error",
     "traceback": [
      "\u001b[0;31m---------------------------------------------------------------------------\u001b[0m",
      "\u001b[0;31mAttributeError\u001b[0m                            Traceback (most recent call last)",
      "Cell \u001b[0;32mIn[8], line 1\u001b[0m\n\u001b[0;32m----> 1\u001b[0m loss, states \u001b[38;5;241m=\u001b[39m \u001b[43mtask\u001b[49m\u001b[38;5;241;43m.\u001b[39;49m\u001b[43meval_with_loss\u001b[49m(model, key\u001b[38;5;241m=\u001b[39mkey_eval)\n",
      "\u001b[0;31mAttributeError\u001b[0m: 'SimpleReaches' object has no attribute 'eval_with_loss'"
     ]
    }
   ],
   "source": [
    "loss, states = task.eval_with_loss(model, key=key_eval)"
   ]
  },
  {
   "cell_type": "markdown",
   "metadata": {},
   "source": [
    "A `LossDict` is mostly similar to a regular `dict` and contains values for all the loss terms."
   ]
  },
  {
   "cell_type": "code",
   "execution_count": 9,
   "metadata": {},
   "outputs": [
    {
     "data": {
      "text/plain": [
       "{'effector_final_velocity': Array(0.13916361, dtype=float32),\n",
       " 'effector_position': Array(14.18485, dtype=float32),\n",
       " 'nn_hidden': Array(0.00060537, dtype=float32),\n",
       " 'nn_output': Array(5.836518e-06, dtype=float32)}"
      ]
     },
     "execution_count": 9,
     "metadata": {},
     "output_type": "execute_result"
    }
   ],
   "source": [
    "loss"
   ]
  },
  {
   "cell_type": "markdown",
   "metadata": {},
   "source": [
    "However, it also provides the total loss."
   ]
  },
  {
   "cell_type": "code",
   "execution_count": 10,
   "metadata": {},
   "outputs": [
    {
     "data": {
      "text/plain": [
       "Array(14.324625, dtype=float32)"
      ]
     },
     "execution_count": 10,
     "metadata": {},
     "output_type": "execute_result"
    }
   ],
   "source": [
    "loss.total"
   ]
  },
  {
   "cell_type": "markdown",
   "metadata": {},
   "source": [
    "At the end of a training run, `TaskTrainer` returns loss history."
   ]
  },
  {
   "cell_type": "code",
   "execution_count": 12,
   "metadata": {},
   "outputs": [
    {
     "data": {
      "application/vnd.jupyter.widget-view+json": {
       "model_id": "066504c5f2674c6db1a470a15d7355b8",
       "version_major": 2,
       "version_minor": 0
      },
      "text/plain": [
       "compile:   0%|          | 0/1 [00:00<?, ?it/s]"
      ]
     },
     "metadata": {},
     "output_type": "display_data"
    },
    {
     "name": "stdout",
     "output_type": "stream",
     "text": [
      "Training step compiled.\n",
      "Validation step compiled.\n"
     ]
    },
    {
     "data": {
      "application/vnd.jupyter.widget-view+json": {
       "model_id": "b7048a6d881b40cebe749c523bfcf200",
       "version_major": 2,
       "version_minor": 0
      },
      "text/plain": [
       "train batch:   0%|          | 0/500 [00:00<?, ?it/s]"
      ]
     },
     "metadata": {},
     "output_type": "display_data"
    },
    {
     "name": "stdout",
     "output_type": "stream",
     "text": [
      "\n",
      "Training iteration: 0\n",
      "\ttraining loss: 3.56e+01\n",
      "\tvalidation loss: 6.55e+00\n",
      "\n",
      "Training iteration: 125\n",
      "\ttraining loss: 1.89e-02\n",
      "\tvalidation loss: 3.26e-03\n",
      "\n",
      "Training iteration: 250\n",
      "\ttraining loss: 6.80e-03\n",
      "\tvalidation loss: 1.33e-03\n",
      "\n",
      "Training iteration: 375\n",
      "\ttraining loss: 5.71e-03\n",
      "\tvalidation loss: 1.02e-03\n",
      "\n",
      "Training iteration: 499\n",
      "\ttraining loss: 4.47e-03\n",
      "\tvalidation loss: 8.84e-04\n",
      "\n",
      "Completed training run on a total of 125,000 trials.\n"
     ]
    }
   ],
   "source": [
    "model, train_history = context.train(\n",
    "    n_batches=500,\n",
    "    batch_size=250,\n",
    "    log_step=125,\n",
    "    key=jax.random.PRNGKey(1),\n",
    ")"
   ]
  },
  {
   "cell_type": "markdown",
   "metadata": {},
   "source": [
    "A `LossDict` is part of the `TaskTrainerHistory` object."
   ]
  },
  {
   "cell_type": "code",
   "execution_count": 18,
   "metadata": {},
   "outputs": [
    {
     "name": "stdout",
     "output_type": "stream",
     "text": [
      "{\n",
      "  'effector_final_velocity':\n",
      "  f32[500],\n",
      "  'effector_position':\n",
      "  f32[500],\n",
      "  'nn_hidden':\n",
      "  f32[500],\n",
      "  'nn_output':\n",
      "  f32[500]\n",
      "}\n"
     ]
    }
   ],
   "source": [
    "import equinox as eqx\n",
    "\n",
    "eqx.tree_pprint(train_history.loss)"
   ]
  },
  {
   "cell_type": "markdown",
   "metadata": {},
   "source": [
    "Note that in this case, each loss term is a vector containing a history of the loss term's value across the training run."
   ]
  },
  {
   "cell_type": "code",
   "execution_count": 20,
   "metadata": {},
   "outputs": [
    {
     "data": {
      "text/plain": [
       "(<Figure size 1000x600 with 1 Axes>,\n",
       " <Axes: xlabel='Training iteration', ylabel='Loss'>)"
      ]
     },
     "execution_count": 20,
     "metadata": {},
     "output_type": "execute_result"
    },
    {
     "data": {
      "image/png": "[encoded data removed]",
      "text/plain": [
       "<Figure size 1000x600 with 1 Axes>"
      ]
     },
     "metadata": {},
     "output_type": "display_data"
    }
   ],
   "source": [
    "from feedbax.plot import plot_losses\n",
    "\n",
    "plot_losses(train_history)"
   ]
  },
  {
   "cell_type": "markdown",
   "metadata": {},
   "source": [
    "## Writing a new loss term\n",
    "\n",
    "We can write new loss terms by subclassing `AbstractLoss`. To do so, we need to implement the `label` field and the `term` method. \n",
    "\n",
    "The `label` is just a string that will be used to identify the loss term, for example in the legend of a loss history plot.\n",
    "\n",
    "As arguments, the `term` method takes the state history and the trial specifications, and can calculate the loss from any part(s) of those. It returns the loss as a JAX array. Generally this array will contain just one dimension, corresponding to the batch of trials on which the loss is being evaluated—in other words, it returns a scalar for each trial in the batch. Note that it's generally unnecessary in `term` to refer explicitly to the batch dimension.\n",
    "\n",
    "Any other dimensions (such as time) should be eliminated before returning. Some loss terms will only calculate a loss for a single time step, whereas others will need to aggregate (for example, take the sum of) values calculated for multiple time steps.\n",
    "\n",
    "The following is a mock example of a typical subclass of `AbstractLoss`. \n",
    "\n",
    "!!! NOTE\n",
    "    For the sake of explicitness, type hints are included for the arguments (`AbstractState`, `AbstractTaskTrialSpec`) and return value (`Array`) of `term`, but these are not strictly needed."
   ]
  },
  {
   "cell_type": "code",
   "execution_count": null,
   "metadata": {},
   "outputs": [],
   "source": [
    "from typing import Optional\n",
    "\n",
    "import jax.numpy as jnp\n",
    "from jaxtyping import Array\n",
    "\n",
    "from feedbax.loss import AbstractLoss\n",
    "from feedbax.state import AbstractState\n",
    "from feedbax.task import AbstractTaskTrialSpec\n",
    "\n",
    "\n",
    "class SomethingLoss(AbstractLoss):\n",
    "    \"\"\"\n",
    "\n",
    "    \"\"\"\n",
    "    label: str = \"effector_position\"\n",
    "\n",
    "    def term(\n",
    "        self,\n",
    "        states: AbstractState,\n",
    "        trial_specs: AbstractTaskTrialSpec,\n",
    "    ) -> Array:\n",
    "\n",
    "        # Sum over length of variable vector\n",
    "        loss = jnp.sum(\n",
    "            (states.some_variable - trial_specs.some_target) ** 2,\n",
    "            axis=-1\n",
    "        )\n",
    "\n",
    "        # Sum over time (if calculated for multiple time steps)\n",
    "        loss = jnp.sum(loss, axis=-1)\n",
    "\n",
    "        return loss"
   ]
  },
  {
   "cell_type": "markdown",
   "metadata": {},
   "source": []
  },
  {
   "cell_type": "markdown",
   "metadata": {},
   "source": []
  },
  {
   "cell_type": "markdown",
   "metadata": {},
   "source": []
  }
 ],
 "metadata": {
  "kernelspec": {
   "display_name": "fx",
   "language": "python",
   "name": "python3"
  },
  "language_info": {
   "codemirror_mode": {
    "name": "ipython",
    "version": 3
   },
   "file_extension": ".py",
   "mimetype": "text/x-python",
   "name": "python",
   "nbconvert_exporter": "python",
   "pygments_lexer": "ipython3",
   "version": "3.11.0"
  }
 },
 "nbformat": 4,
 "nbformat_minor": 2
}
