{
 "cells": [
  {
   "cell_type": "markdown",
   "metadata": {},
   "source": [
    "# Models with stages\n",
    "\n",
    "- Motivation: How do interventions work?\n",
    "\n",
    "- Using existing neural networks as controllers \n",
    "    - And the downside (intervenors)\n",
    "\n",
    "- State is not part of the object itself. \n",
    "    - i.e. notice that `model` does not contain state arrays, and that after we call `task.eval(.)`, it returns `states` which are separate.\n",
    "    - This follows from the immutability stuff, so maybe `surgery` should go first.\n",
    "\n"
   ]
  },
  {
   "cell_type": "code",
   "execution_count": null,
   "metadata": {},
   "outputs": [],
   "source": []
  }
 ],
 "metadata": {
  "language_info": {
   "name": "python"
  }
 },
 "nbformat": 4,
 "nbformat_minor": 2
}
