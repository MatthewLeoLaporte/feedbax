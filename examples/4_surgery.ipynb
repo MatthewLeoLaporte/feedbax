{
 "cells": [
  {
   "cell_type": "markdown",
   "metadata": {},
   "source": [
    "# Performing surgery\n",
    "\n",
    "We have a model, and want to change just one part of it. How can we do that?\n",
    "\n",
    "In Feedbax, objects are largely *immutable* once they are constructed. That means we can't simply alter them once they've been created. \n",
    "\n",
    "!!! Note     \n",
    "    Feedbax objects are immutable because they are Equinox modules. It's Equinox that enforces the rules we'll discuss in this example.\n",
    "\n",
    "Let's start with a pre-built model."
   ]
  },
  {
   "cell_type": "code",
   "execution_count": 2,
   "metadata": {},
   "outputs": [
    {
     "name": "stderr",
     "output_type": "stream",
     "text": [
      "CUDA backend failed to initialize: Unable to load CUDA. Is it installed? (Set TF_CPP_MIN_LOG_LEVEL=0 and rerun for more info.)\n",
      "/home/mll/.miniforge3/envs/fx/lib/python3.11/site-packages/diffrax/adjoint.py:665: UserWarning: As of Equinox 0.10.7, `equinox.filter_custom_vjp.defvjp` is deprecated in favour of `.def_fwd` and `.def_bwd`. This new API supports symbolic zeros, which allow for more efficient autodifferentiation rules. In particular:\n",
      "- the fwd and bwd functions take an extra `perturbed` argument, which     indicates which primals actually need a gradient. You can use this     to skip computing the gradient for any unperturbed value. (You can     also safely just ignore this if you wish.)\n",
      "- `None` was previously passed to indicate a symbolic zero gradient for     all objects that weren't inexact arrays, but all inexact arrays     always had an array-valued gradient. Now, `None` may also be passed     to indicate that an inexact array has a symbolic zero gradient.\n",
      "  _loop_backsolve.defvjp(_loop_backsolve_fwd, _loop_backsolve_bwd)\n"
     ]
    }
   ],
   "source": [
    "import jax\n",
    "\n",
    "from feedbax.xabdeef import point_mass_nn_simple_reaches\n",
    "\n",
    "\n",
    "context = point_mass_nn_simple_reaches(key=jax.random.PRNGKey(0))\n",
    "model = context.model  # Shorthand"
   ]
  },
  {
   "cell_type": "markdown",
   "metadata": {},
   "source": [
    "This model has a point mass of mass $1.0$ as its skeleton."
   ]
  },
  {
   "cell_type": "code",
   "execution_count": 3,
   "metadata": {},
   "outputs": [
    {
     "data": {
      "text/plain": [
       "PointMass(mass=1.0)"
      ]
     },
     "execution_count": 3,
     "metadata": {},
     "output_type": "execute_result"
    }
   ],
   "source": [
    "model.step.mechanics.plant.skeleton"
   ]
  },
  {
   "cell_type": "markdown",
   "metadata": {},
   "source": [
    "If we try to directly alter the model to use a point mass of mass $5.0$, an error is raised."
   ]
  },
  {
   "cell_type": "code",
   "execution_count": 4,
   "metadata": {},
   "outputs": [
    {
     "ename": "FrozenInstanceError",
     "evalue": "cannot assign to field 'skeleton'",
     "output_type": "error",
     "traceback": [
      "\u001b[0;31m---------------------------------------------------------------------------\u001b[0m",
      "\u001b[0;31mFrozenInstanceError\u001b[0m                       Traceback (most recent call last)",
      "Cell \u001b[0;32mIn[4], line 4\u001b[0m\n\u001b[1;32m      1\u001b[0m \u001b[38;5;28;01mfrom\u001b[39;00m \u001b[38;5;21;01mfeedbax\u001b[39;00m\u001b[38;5;21;01m.\u001b[39;00m\u001b[38;5;21;01mmechanics\u001b[39;00m\u001b[38;5;21;01m.\u001b[39;00m\u001b[38;5;21;01mskeleton\u001b[39;00m \u001b[38;5;28;01mimport\u001b[39;00m PointMass \n\u001b[1;32m      3\u001b[0m \u001b[38;5;66;03m# Try to replace the entire point mass\u001b[39;00m\n\u001b[0;32m----> 4\u001b[0m \u001b[43mmodel\u001b[49m\u001b[38;5;241;43m.\u001b[39;49m\u001b[43mstep\u001b[49m\u001b[38;5;241;43m.\u001b[39;49m\u001b[43mmechanics\u001b[49m\u001b[38;5;241;43m.\u001b[39;49m\u001b[43mplant\u001b[49m\u001b[38;5;241;43m.\u001b[39;49m\u001b[43mskeleton\u001b[49m \u001b[38;5;241m=\u001b[39m PointMass(\u001b[38;5;241m5.0\u001b[39m)\n",
      "File \u001b[0;32m<string>:4\u001b[0m, in \u001b[0;36m__setattr__\u001b[0;34m(self, name, value)\u001b[0m\n",
      "\u001b[0;31mFrozenInstanceError\u001b[0m: cannot assign to field 'skeleton'"
     ]
    }
   ],
   "source": [
    "from feedbax.mechanics.skeleton import PointMass \n",
    "\n",
    "# Try to replace the entire point mass\n",
    "model.step.mechanics.plant.skeleton = PointMass(5.0)"
   ]
  },
  {
   "cell_type": "code",
   "execution_count": null,
   "metadata": {},
   "outputs": [
    {
     "ename": "FrozenInstanceError",
     "evalue": "cannot assign to field 'mass'",
     "output_type": "error",
     "traceback": [
      "\u001b[0;31m---------------------------------------------------------------------------\u001b[0m",
      "\u001b[0;31mFrozenInstanceError\u001b[0m                       Traceback (most recent call last)",
      "Cell \u001b[0;32mIn[7], line 2\u001b[0m\n\u001b[1;32m      1\u001b[0m \u001b[38;5;66;03m# Try to just change the mass\u001b[39;00m\n\u001b[0;32m----> 2\u001b[0m \u001b[43mmodel\u001b[49m\u001b[38;5;241;43m.\u001b[39;49m\u001b[43mstep\u001b[49m\u001b[38;5;241;43m.\u001b[39;49m\u001b[43mmechanics\u001b[49m\u001b[38;5;241;43m.\u001b[39;49m\u001b[43mplant\u001b[49m\u001b[38;5;241;43m.\u001b[39;49m\u001b[43mskeleton\u001b[49m\u001b[38;5;241;43m.\u001b[39;49m\u001b[43mmass\u001b[49m \u001b[38;5;241m=\u001b[39m \u001b[38;5;241m5.0\u001b[39m\n",
      "File \u001b[0;32m<string>:4\u001b[0m, in \u001b[0;36m__setattr__\u001b[0;34m(self, name, value)\u001b[0m\n",
      "\u001b[0;31mFrozenInstanceError\u001b[0m: cannot assign to field 'mass'"
     ]
    }
   ],
   "source": [
    "# Or just try to change the mass\n",
    "model.step.mechanics.plant.skeleton.mass = 5.0"
   ]
  },
  {
   "cell_type": "markdown",
   "metadata": {},
   "source": [
    "This kind of direct re-assignment is common in Python. It might seem inconvenient to have it outlawed! \n",
    "\n",
    "Well, it is still possible to alter our model. But if we want to switch out just the point mass, we have to do something slightly more complex."
   ]
  },
  {
   "cell_type": "code",
   "execution_count": 6,
   "metadata": {},
   "outputs": [],
   "source": [
    "import equinox as eqx\n",
    "\n",
    "model_heavy = eqx.tree_at(\n",
    "    lambda m: m.step.mechanics.plant.skeleton, \n",
    "    model, \n",
    "    PointMass(5.0)\n",
    ")"
   ]
  },
  {
   "cell_type": "markdown",
   "metadata": {},
   "source": [
    "To replace a part of our model tree, we use the `tree_at` function provided by Equinox. \n",
    "\n",
    "The use of `lambda` in the first agument to `tree_at` is similar to the `lambda` we used in Example 1. There, we defined a function `where_train` that picked out which parts of the model should be trainable. Here, our function picks out which part of our model will be replaced.\n",
    "\n",
    "The second argument is just `model`, which is the model we want to alter. \n",
    "\n",
    "The third argument is the part we want to replace it with.\n",
    "\n",
    "Why the added complexity? *It forces us never to alter our models in-place*. The function `eqx.tree_at` does not modify `model` directly, but *returns a copy* of `model` which possesses the alterations. Here, we assign the new object to `model_heavy`, since maybe we want to be able to refer to both the original model (still called `model`!) and the altered one. But we could just as easily have written"
   ]
  },
  {
   "cell_type": "code",
   "execution_count": null,
   "metadata": {},
   "outputs": [],
   "source": [
    "model = eqx.tree_at(\n",
    "    lambda m: m.step.mechanics.plant.skeleton, \n",
    "    model, \n",
    "    PointMass(5.0)\n",
    ")"
   ]
  },
  {
   "cell_type": "markdown",
   "metadata": {},
   "source": [
    "This means \"create an altered model, and make it so that `model` now refers to the new model---I don't need to refer to the original one by that name anymore\".\n",
    "\n",
    "There are downstream advantages to our ban. The downside to in-place changes is that it can be hard to keep track of their hidden consequences. Some parts of my code may depend on a given object, and if other parts of my code can reach into that object and make implicit alterations, the relationships within my code may be altered without consent of all the stakeholders, so to speak.\n",
    "\n",
    "When we are forced to *return* an altered object rather than *mutate* an existing object, the consequences are always out in the open. We have to be explicit about what-refers-to-what, with respect to what-has-changed."
   ]
  },
  {
   "cell_type": "markdown",
   "metadata": {},
   "source": []
  }
 ],
 "metadata": {
  "kernelspec": {
   "display_name": "fx",
   "language": "python",
   "name": "python3"
  },
  "language_info": {
   "codemirror_mode": {
    "name": "ipython",
    "version": 3
   },
   "file_extension": ".py",
   "mimetype": "text/x-python",
   "name": "python",
   "nbconvert_exporter": "python",
   "pygments_lexer": "ipython3",
   "version": "3.11.0"
  }
 },
 "nbformat": 4,
 "nbformat_minor": 2
}
